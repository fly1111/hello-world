{
 "cells": [
  {
   "cell_type": "code",
   "execution_count": 7,
   "metadata": {
    "scrolled": true
   },
   "outputs": [
    {
     "name": "stdout",
     "output_type": "stream",
     "text": [
      "[[ 0.021204   -0.00967069  0.00427827 ... -0.00801066 -0.0086934\n",
      "  -0.00574644]\n",
      " [ 0.01650908  0.0081415  -0.00135911 ...  0.00903612 -0.00393191\n",
      "  -0.00224533]\n",
      " [-0.00957567  0.0166154   0.00658905 ...  0.00320807  0.00070985\n",
      "  -0.00729338]\n",
      " ...\n",
      " [-0.01109206  0.01384702  0.01025972 ... -0.00516174  0.0198912\n",
      "  -0.01732686]\n",
      " [-0.00940103 -0.00181687  0.00095949 ... -0.00762813  0.00949809\n",
      "   0.01307113]\n",
      " [-0.00693428  0.00317292  0.00156139 ... -0.00120456  0.00761316\n",
      "  -0.00860259]]\n"
     ]
    }
   ],
   "source": [
    "import numpy as np\n",
    "D = 784 \n",
    "K = 10\n",
    "N = 128\n",
    "dim1 = 128\n",
    "dim2 = 36\n",
    "W1 = 0.01 * np.random.randn(D,dim1)\n",
    "b1 = np.zeros((1,dim1))\n",
    "W2 = 0.01 * np.random.randn(dim1,dim2)\n",
    "b2 = np.zeros((1,dim2))\n",
    "W3 = 0.01 * np.random.randn(dim2,K)\n",
    "b3 = np.zeros((1,K))\n",
    "\n",
    "X = np.random.randn(N,D)\n",
    "hidden_layer1 = np.maximum(0,np.dot(X,W1)+b1)\n",
    "hidden_layer2 = np.maximum(0,np.dot(hidden_layer1,W2)+b2)\n",
    "scores = np.dot(hidden_layer2,W3)+b3\n",
    "print(W1)\n",
    "\n",
    "\n"
   ]
  },
  {
   "cell_type": "code",
   "execution_count": 8,
   "metadata": {},
   "outputs": [],
   "source": [
    "def conv2D(input_2Ddata,kern):\n",
    "    (h,w ) = input_2Ddata.shape\n",
    "    (kern_h,kern_w) = kern.shape\n",
    "    padding_h = (kern_h - 1)//2\n",
    "    padding_w = (kern_w - 1)//2\n",
    "    padding = np.zeros(shape = (h+2*padding_h,w+2*padding_w))#填充\n",
    "    padding[padding_h:-padding_h,padding_w:-padding_w] = input_2Ddata\n",
    "    output_2Ddata = np.zeros(shape = (h,w))\n",
    "    \n",
    "    for i in range(h):\n",
    "        for j in range(w):\n",
    "            window = padding[i:i+kern_h,j:j+kern_w]\n",
    "            output_2Ddata[i,j] = np.sum(kern*window)\n",
    "    return output_2Ddata\n",
    "h = 32\n",
    "w = 48 \n",
    "in_d = 12\n",
    "out_d = 24\n",
    "input_3Ddata = np.random.randn(h,w,in_d)\n",
    "output_3Ddata = np.zeros(shape = (h,w,out_d))\n",
    "(kern_h,kern_w) = (3,3)\n",
    "kerns = np.random.randn(out_d,kern_h,kern_w,in_d)\n",
    "bias = np.random.randn(out_d)\n",
    "\n",
    "for m in range(out_d):\n",
    "    for k in range(in_d):\n",
    "        input_2Ddata = input_3Ddata[:,:, k]\n",
    "        kern = kerns[m, :, :,k]\n",
    "        output_3Ddata[:,:,m] += conv2D(input_2Ddata,kern)\n",
    "    output_3Ddata[:,:, m] += bias[m]"
   ]
  },
  {
   "cell_type": "code",
   "execution_count": null,
   "metadata": {},
   "outputs": [],
   "source": []
  }
 ],
 "metadata": {
  "kernelspec": {
   "display_name": "Python 3",
   "language": "python",
   "name": "python3"
  },
  "language_info": {
   "codemirror_mode": {
    "name": "ipython",
    "version": 3
   },
   "file_extension": ".py",
   "mimetype": "text/x-python",
   "name": "python",
   "nbconvert_exporter": "python",
   "pygments_lexer": "ipython3",
   "version": "3.6.7"
  }
 },
 "nbformat": 4,
 "nbformat_minor": 2
}
