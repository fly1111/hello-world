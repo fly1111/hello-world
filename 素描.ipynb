{
 "cells": [
  {
   "cell_type": "code",
   "execution_count": 5,
   "metadata": {
    "scrolled": true
   },
   "outputs": [
    {
     "data": {
      "text/plain": [
       "32256"
      ]
     },
     "execution_count": 5,
     "metadata": {},
     "output_type": "execute_result"
    }
   ],
   "source": [
    "from PIL import Image\n",
    "import os\n",
    "\n",
    "# 图像组成：红绿蓝 （RGB）三原色组成 亮度（255,255,255）\n",
    "image = \"421.jpg\"\n",
    "img = Image.open(image)\n",
    "img_all = \"./123/\" + image\n",
    "new = Image.new(\"L\", img.size, 255)\n",
    "width, height = img.size\n",
    "img = img.convert(\"L\")\n",
    "# print(img.size)\n",
    "# print(img.mode) #RBG\n",
    "#\n",
    "# img_get = img.getpixel((0, 0))\n",
    "# print(img_get) #三原色通道\n",
    "#\n",
    "# img_L=img.convert('L')\n",
    "# print(img_L)\n",
    "# img_get_L=img_L.getpixel((0,0)) #换算 得到灰度值\n",
    "# print(img_get_L)\n",
    " \n",
    "# 定义画笔的大小\n",
    "Pen_size = 3\n",
    "# 色差扩散器\n",
    "Color_Diff = 6\n",
    "for i in range(Pen_size + 1, width - Pen_size - 1):\n",
    "    for j in range(Pen_size + 1, height - Pen_size - 1):\n",
    "        # 原始的颜色\n",
    "        originalColor = 255\n",
    "        lcolor = sum([img.getpixel((i - r, j)) for r in range(Pen_size)]) // Pen_size\n",
    "        rcolor = sum([img.getpixel((i + r, j)) for r in range(Pen_size)]) // Pen_size\n",
    "        # 通道----颜料\n",
    "        if abs(lcolor - rcolor) > Color_Diff:\n",
    "            originalColor -= (255 - img.getpixel((i, j))) // 4\n",
    "            new.putpixel((i, j), originalColor)\n",
    "        ucolor = sum([img.getpixel((i, j - r)) for r in range(Pen_size)]) // Pen_size\n",
    "        dcolor = sum([img.getpixel((i, j + r)) for r in range(Pen_size)]) // Pen_size\n",
    "        # 通道----颜料\n",
    "        if abs(ucolor - dcolor) > Color_Diff:\n",
    "            originalColor -= (255 - img.getpixel((i, j))) // 4\n",
    "            new.putpixel((i, j), originalColor)\n",
    "        acolor = sum([img.getpixel((i - r, j - r)) for r in range(Pen_size)]) // Pen_size\n",
    "        bcolor = sum([img.getpixel((i + r, j + r)) for r in range(Pen_size)]) // Pen_size\n",
    "        # 通道----颜料\n",
    "        if abs(acolor - bcolor) > Color_Diff:\n",
    "            originalColor -= (255 - img.getpixel((i, j))) // 4\n",
    "            new.putpixel((i, j), originalColor)\n",
    "        qcolor = sum([img.getpixel((i + r, j - r)) for r in range(Pen_size)]) // Pen_size\n",
    "        wcolor = sum([img.getpixel((i - r, j + r)) for r in range(Pen_size)]) // Pen_size\n",
    "        # 通道----颜料\n",
    "        if abs(qcolor - wcolor) > Color_Diff:\n",
    "            originalColor -= (255 - img.getpixel((i, j))) // 4\n",
    "            new.putpixel((i, j), originalColor)\n",
    "new.show(img_all)\n",
    "new.save(img_all)\n",
    "i = os.system('mshta vbscript createobject(\"sapi.spvoice\").speak(\"%s\")(window.close)' % '您的图片转换好了')\n",
    "os.system(img_all)"
   ]
  },
  {
   "cell_type": "code",
   "execution_count": null,
   "metadata": {},
   "outputs": [],
   "source": []
  },
  {
   "cell_type": "code",
   "execution_count": null,
   "metadata": {},
   "outputs": [],
   "source": []
  }
 ],
 "metadata": {
  "kernelspec": {
   "display_name": "Python 3",
   "language": "python",
   "name": "python3"
  },
  "language_info": {
   "codemirror_mode": {
    "name": "ipython",
    "version": 3
   },
   "file_extension": ".py",
   "mimetype": "text/x-python",
   "name": "python",
   "nbconvert_exporter": "python",
   "pygments_lexer": "ipython3",
   "version": "3.6.7"
  }
 },
 "nbformat": 4,
 "nbformat_minor": 2
}
