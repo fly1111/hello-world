{
 "cells": [
  {
   "cell_type": "code",
   "execution_count": 1,
   "metadata": {},
   "outputs": [],
   "source": [
    "import tensorflow as tf\n",
    "import os\n",
    "import math\n",
    "import time\n",
    "import pickle\n",
    "from PIL import Image\n",
    "import numpy as np\n",
    "import cifar10_input\n",
    "import warnings\n",
    "import matplotlib.pyplot as plt\n",
    "%matplotlib inline\n",
    "warnings.filterwarnings(\"ignore\")\n",
    "CIFAR_DIR = \"./cifar-10-batches-py/\"\n",
    "#print (os.listdir(CIFAR_DIR))"
   ]
  },
  {
   "cell_type": "code",
   "execution_count": 2,
   "metadata": {
    "scrolled": true
   },
   "outputs": [],
   "source": [
    "def load_data(filename):\n",
    "    \"\"\"read data from data file.\"\"\"\n",
    "    with open(filename,'rb') as f:\n",
    "        data = pickle.load(f,encoding='bytes')\n",
    "        return data[b'data'],data[b'labels']\n",
    "'''\n",
    "def weight_variable(shape):\n",
    "    initial = tf.truncated_normal(shape, stddev=0.1)\n",
    "    return tf.Variable(initial)\n",
    "def bias_variable(shape):\n",
    "    initial = tf.constant(0.1, shape=shape)\n",
    "    return tf.Variable(initial)\n",
    "'''\n",
    "def conv2d(x, name):\n",
    "    return tf.layers.conv2d( x,32,( 3, 3 ), padding = 'same',activation = tf.nn.relu,name=name)\n",
    "def max_pool_2x2(x,name):\n",
    "    return tf.layers.max_pooling2d(x,( 2, 2 ), ( 2, 2 ),name=name )\n",
    "\n",
    "    "
   ]
  },
  {
   "cell_type": "code",
   "execution_count": 5,
   "metadata": {},
   "outputs": [
    {
     "data": {
      "text/plain": [
       "\"                           \\ntrain_filenames = [os.path.join(CIFAR_DIR, 'data_batch_%d.bin' % i) for i in range(1,6)]\\ntest_filenames = [os.path.join(CIFAR_DIR, 'test_batch.bin')]\\n\\ntrain_data = CifarData(train_filenames,True)\\ntest_data = CifarData(test_filenames,False)\""
      ]
     },
     "execution_count": 5,
     "metadata": {},
     "output_type": "execute_result"
    }
   ],
   "source": [
    "class CifarData:\n",
    "    def __init__(self,filenames,need_shuffle):\n",
    "        all_data = []\n",
    "        all_labels = []\n",
    "        for filename in filenames:\n",
    "            data,labels = load_data(filename)\n",
    "            all_data.append(data)\n",
    "            all_labels.append(labels)\n",
    "        self._data = np.vstack(all_data)\n",
    "        self._data = self._data / 127.5 -1\n",
    "        self._labels = np.hstack(all_labels)\n",
    "        print (self._data.shape)\n",
    "        print (self._labels.shape)\n",
    "        \n",
    "        self._num_examples = self._data.shape[0]\n",
    "        self._need_shuffle = need_shuffle\n",
    "        self._indicator = 0\n",
    "        if self._need_shuffle:\n",
    "            self._shuffle_data()\n",
    "            \n",
    "    def _shuffle_data(self):\n",
    "        #[0,1,2,3,4,5]-> [5,3,2,4,0,1]\n",
    "        p = np.random.permutation(self._num_examples)\n",
    "        self._data = self._data[p]\n",
    "        self._labels = self._labels[p]\n",
    "        \n",
    "    def next_batch(self,batch_size):\n",
    "        \"\"\"return batch_size examples as a batch.\"\"\"\n",
    "        end_indicator = self._indicator + batch_size\n",
    "        if end_indicator > self._num_examples:\n",
    "            if self._need_shuffle:\n",
    "                self._shuffle_data()\n",
    "                self._indicator = 0\n",
    "                end_indicator = batch_size\n",
    "            else:\n",
    "                raise Exception(\"have no more examples  \")\n",
    "        if end_indicator > self._num_examples:\n",
    "            raise Exception(\"batch size is larger than all examples\")\n",
    "        batch_data = self._data[self._indicator: end_indicator]\n",
    "        batch_labels = self._labels[self._indicator: end_indicator]\n",
    "        self._indicator = end_indicator\n",
    "        return batch_data,batch_labels\n",
    "\n",
    "                            \n",
    "train_filenames = [os.path.join(CIFAR_DIR, 'data_batch_%d.bin' % i) for i in range(1,6)]\n",
    "test_filenames = [os.path.join(CIFAR_DIR, 'test_batch.bin')]\n",
    "\n",
    "train_data = CifarData(train_filenames,True)\n",
    "test_data = CifarData(test_filenames,False)"
   ]
  },
  {
   "cell_type": "code",
   "execution_count": 7,
   "metadata": {
    "scrolled": true
   },
   "outputs": [],
   "source": [
    "#print(train_data.next_batch(10))"
   ]
  },
  {
   "cell_type": "code",
   "execution_count": 10,
   "metadata": {
    "scrolled": false
   },
   "outputs": [
    {
     "name": "stdout",
     "output_type": "stream",
     "text": [
      "WARNING:tensorflow:From <ipython-input-2-cc97d043127b>:15: conv2d (from tensorflow.python.layers.convolutional) is deprecated and will be removed in a future version.\n",
      "Instructions for updating:\n",
      "Use keras.layers.conv2d instead.\n",
      "WARNING:tensorflow:From /home/fly/.local/lib/python3.6/site-packages/tensorflow/python/framework/op_def_library.py:263: colocate_with (from tensorflow.python.framework.ops) is deprecated and will be removed in a future version.\n",
      "Instructions for updating:\n",
      "Colocations handled automatically by placer.\n",
      "WARNING:tensorflow:From <ipython-input-2-cc97d043127b>:17: max_pooling2d (from tensorflow.python.layers.pooling) is deprecated and will be removed in a future version.\n",
      "Instructions for updating:\n",
      "Use keras.layers.max_pooling2d instead.\n",
      "\n",
      "WARNING: The TensorFlow contrib module will not be included in TensorFlow 2.0.\n",
      "For more information, please see:\n",
      "  * https://github.com/tensorflow/community/blob/master/rfcs/20180907-contrib-sunset.md\n",
      "  * https://github.com/tensorflow/addons\n",
      "If you depend on functionality not listed there, please file an issue.\n",
      "\n",
      "WARNING:tensorflow:From /home/fly/.local/lib/python3.6/site-packages/tensorflow/contrib/layers/python/layers/layers.py:1624: flatten (from tensorflow.python.layers.core) is deprecated and will be removed in a future version.\n",
      "Instructions for updating:\n",
      "Use keras.layers.flatten instead.\n",
      "WARNING:tensorflow:From <ipython-input-10-d35563ad875e>:42: dense (from tensorflow.python.layers.core) is deprecated and will be removed in a future version.\n",
      "Instructions for updating:\n",
      "Use keras.layers.dense instead.\n",
      "WARNING:tensorflow:From /home/fly/.local/lib/python3.6/site-packages/tensorflow/python/ops/losses/losses_impl.py:209: to_float (from tensorflow.python.ops.math_ops) is deprecated and will be removed in a future version.\n",
      "Instructions for updating:\n",
      "Use tf.cast instead.\n"
     ]
    }
   ],
   "source": [
    "\n",
    "'''\n",
    "# (3072,10)\n",
    "w = tf.get_variable('w',[x.get_shape()[-1], 10],\n",
    "                    initializer = tf.random_normal_initializer(0, 1))\n",
    "#(10, )\n",
    "b = tf.get_variable('b',[10],\n",
    "                    initializer = tf.constant_initializer(0.0))\n",
    "\n",
    "# [None,3072]*[3072,10] = [None,10]\n",
    "y_ = tf.matmul(x,w) + b\n",
    "'''\n",
    "# (3072,10)\n",
    "#W_conv1 = variable_with_weight_loss(shape=[5, 5, 3, 64], stddev=5e-2, w1=0.0)\n",
    "\n",
    "#(10, )\n",
    "#b_conv1 = tf.Variable(tf.constant(0.0, shape=[64]))\n",
    "batch_size = 10\n",
    "\n",
    "\n",
    "x = tf.placeholder( tf.float32, [None, 3072] )#[None]\n",
    "y = tf.placeholder( tf.int64, [None] )\n",
    "\n",
    "\n",
    "# [None, ], eg: [0, 5, 6, 3] \n",
    "x_image = tf.reshape( x, [-1, 3, 32, 32] ) \n",
    "# 将最开始的向量式的图片,转为真实的图片类型\n",
    "x_image = tf.transpose( x_image, perm= [0, 2, 3, 1] ) \n",
    "\n",
    "conv1_1 = conv2d( x_image,name = 'conv1_1')\n",
    "conv1_2 = conv2d( conv1_1,name = 'conv1_2')\n",
    "pooling1 = max_pool_2x2( conv1_2, name='pool1' )\n",
    "conv2_1 = conv2d( pooling1,name = 'conv2_1' )\n",
    "conv2_2 =conv2d( conv2_1,name = 'conv2_2' )\n",
    "pooling2 = max_pool_2x2( conv2_2,name='pool2' )\n",
    "\n",
    "conv3_1 = conv2d( pooling2, name = 'conv3_1' )\n",
    "\n",
    "conv3_2 = conv2d( conv3_1, name = 'conv3_2' )\n",
    "pooling3 =max_pool_2x2( conv3_2,  name='pool3' )\n",
    "flatten  = tf.contrib.layers.flatten( pooling3 )\n",
    "y_ = tf.layers.dense(flatten, 10)\n",
    "\n",
    "\n",
    "loss = tf.losses.sparse_softmax_cross_entropy(labels=y, logits=y_)\n",
    "\n",
    "image_prediction = tf.argmax(y_,1)\n",
    "image_real = tf.argmax(y,1)\n",
    "# [1,#0,1,1,1,0,0,0]\n",
    "correct_prediction = tf.equal(image_prediction,y)\n",
    "accuracy = tf.reduce_mean(tf.cast(correct_prediction,tf.float64))\n",
    "top_k_op = tf.nn.in_top_k(y_, y, 1)\n",
    "\n",
    "with tf.name_scope('train_op'):\n",
    "    train_op = tf.train.AdamOptimizer(1e-3).minimize(loss)\n"
   ]
  },
  {
   "cell_type": "code",
   "execution_count": 11,
   "metadata": {},
   "outputs": [
    {
     "name": "stdout",
     "output_type": "stream",
     "text": [
      "Tensor(\"Reshape:0\", shape=(?, 24, 24, 3), dtype=float32)\n"
     ]
    }
   ],
   "source": [
    "print(x_image)"
   ]
  },
  {
   "cell_type": "code",
   "execution_count": null,
   "metadata": {
    "scrolled": false
   },
   "outputs": [
    {
     "name": "stdout",
     "output_type": "stream",
     "text": [
      "WARNING:tensorflow:From /home/fly/workspace/deeplearning/cifar10_input.py:166: string_input_producer (from tensorflow.python.training.input) is deprecated and will be removed in a future version.\n",
      "Instructions for updating:\n",
      "Queue-based input pipelines have been replaced by `tf.data`. Use `tf.data.Dataset.from_tensor_slices(string_tensor).shuffle(tf.shape(input_tensor, out_type=tf.int64)[0]).repeat(num_epochs)`. If `shuffle=False`, omit the `.shuffle(...)`.\n",
      "WARNING:tensorflow:From /home/fly/.local/lib/python3.6/site-packages/tensorflow/python/training/input.py:278: input_producer (from tensorflow.python.training.input) is deprecated and will be removed in a future version.\n",
      "Instructions for updating:\n",
      "Queue-based input pipelines have been replaced by `tf.data`. Use `tf.data.Dataset.from_tensor_slices(input_tensor).shuffle(tf.shape(input_tensor, out_type=tf.int64)[0]).repeat(num_epochs)`. If `shuffle=False`, omit the `.shuffle(...)`.\n",
      "WARNING:tensorflow:From /home/fly/.local/lib/python3.6/site-packages/tensorflow/python/training/input.py:190: limit_epochs (from tensorflow.python.training.input) is deprecated and will be removed in a future version.\n",
      "Instructions for updating:\n",
      "Queue-based input pipelines have been replaced by `tf.data`. Use `tf.data.Dataset.from_tensors(tensor).repeat(num_epochs)`.\n",
      "WARNING:tensorflow:From /home/fly/.local/lib/python3.6/site-packages/tensorflow/python/training/input.py:199: QueueRunner.__init__ (from tensorflow.python.training.queue_runner_impl) is deprecated and will be removed in a future version.\n",
      "Instructions for updating:\n",
      "To construct input pipelines, use the `tf.data` module.\n",
      "WARNING:tensorflow:From /home/fly/.local/lib/python3.6/site-packages/tensorflow/python/training/input.py:199: add_queue_runner (from tensorflow.python.training.queue_runner_impl) is deprecated and will be removed in a future version.\n",
      "Instructions for updating:\n",
      "To construct input pipelines, use the `tf.data` module.\n",
      "WARNING:tensorflow:From /home/fly/workspace/deeplearning/cifar10_input.py:74: FixedLengthRecordReader.__init__ (from tensorflow.python.ops.io_ops) is deprecated and will be removed in a future version.\n",
      "Instructions for updating:\n",
      "Queue-based input pipelines have been replaced by `tf.data`. Use `tf.data.FixedLengthRecordDataset`.\n",
      "WARNING:tensorflow:From /home/fly/.local/lib/python3.6/site-packages/tensorflow/python/ops/image_ops_impl.py:1241: div (from tensorflow.python.ops.math_ops) is deprecated and will be removed in a future version.\n",
      "Instructions for updating:\n",
      "Deprecated in favor of operator or tf.math.divide.\n",
      "Filling queue with 20000 CIFAR images before starting to train. This will take a few minutes.\n",
      "WARNING:tensorflow:From /home/fly/workspace/deeplearning/cifar10_input.py:127: shuffle_batch (from tensorflow.python.training.input) is deprecated and will be removed in a future version.\n",
      "Instructions for updating:\n",
      "Queue-based input pipelines have been replaced by `tf.data`. Use `tf.data.Dataset.shuffle(min_after_dequeue).batch(batch_size)`.\n"
     ]
    }
   ],
   "source": [
    "init = tf.global_variables_initializer()\n",
    "train_steps = 1500\n",
    "test_steps = 300\n",
    "#test_batch_data, test_batch_labels = cifar10_input.inputs(eval_data=True, data_dir=CIFAR_DIR, batch_size=batch_size)\n",
    "with tf.Session() as sess:\n",
    "    sess.run(init)\n",
    "    for i in range(train_steps):\n",
    "        start_time = time.time()\n",
    "        #batch_data, batch_labels = cifar10_input.distorted_inputs(data_dir=CIFAR_DIR,batch_size=batch_size)\n",
    "        batch_data, batch_labels = train_data.next_batch(batch_size)\n",
    "        \n",
    "        #batch_data, batch_labels = sess.run([batch_data, batch_labels ])\n",
    "        #image_array = np.array(batch_data)\n",
    "        #image_array =image_array.astype(float)\n",
    "        #batch_data = np.reshape(image_array,[20,32,32,3])        \n",
    "        loss_val , acc_val,_ = sess.run(\n",
    "            [loss,accuracy,train_op],feed_dict={\n",
    "                x: batch_data,y: batch_labels})\n",
    "        duration = time.time() - start_time\n",
    "        if (i+1) % 50 == 0:\n",
    "            examples_per_sec = batch_size / duration\n",
    "            sec_per_batch = float(duration)\n",
    "            format_str = ('step %d, lass=%.2f (%.1f examples/sec; %.3f sec/batch),acc: %4.5f')\n",
    "            print(format_str % (i+1, loss_val, examples_per_sec, sec_per_batch,acc_val))\n",
    "    \n",
    "    \n",
    "    num_examples = 300\n",
    "    all_test_acc_val = []\n",
    "    num_inter = int(math.ceil(num_examples / batch_size))\n",
    "    true_count = 0   \n",
    "    total_sample_count = num_inter * batch_size\n",
    "    step = 0\n",
    "    while step < num_inter:\n",
    "        #test_batch_data, test_batch_labels= sess.run([test_batch_data, test_batch_labels]   ) \n",
    "        #test_batch_data = tf.reshape(test_batch_data,[20,1728]\n",
    "        test_batch_data, test_batch_labels  = test_data.next_batch(batch_size)\n",
    "        test_acc_val,count_pred_true =sess.run(\n",
    "            [accuracy,top_k_op],\n",
    "            feed_dict = {x: test_batch_data,y: test_batch_labels})\n",
    "        sort_prediction = sess.run(\n",
    "            image_prediction,feed_dict = {x: test_batch_data,y: test_batch_labels})\n",
    "        sort_real = sess.run(\n",
    "            y,feed_dict = {x: test_batch_data,y: test_batch_labels})\n",
    "        true_count += np.sum(count_pred_true)\n",
    "        #print(sort_real)\n",
    "       \n",
    "        #print(sess.run(image_prediction.indices))\n",
    "        sort_prediction = tf.nn.top_k(sort_prediction,1)\n",
    "        sort_real = tf.nn.top_k(sort_real,1)\n",
    "        print('[Test] Step:%d 预测分类是 %s，真实分类是 %s'% \n",
    "              (step ,sess.run(sort_prediction.indices),sess.run(sort_real.indices)))\n",
    "        step += 1\n",
    "    prediction = true_count / total_sample_count\n",
    "    print ('precision @ 1 = %.3f,acc: %4.5f '\n",
    "           % (prediction,test_acc_val))\n",
    " "
   ]
  },
  {
   "cell_type": "code",
   "execution_count": null,
   "metadata": {},
   "outputs": [],
   "source": []
  }
 ],
 "metadata": {
  "kernelspec": {
   "display_name": "Python 3",
   "language": "python",
   "name": "python3"
  },
  "language_info": {
   "codemirror_mode": {
    "name": "ipython",
    "version": 3
   },
   "file_extension": ".py",
   "mimetype": "text/x-python",
   "name": "python",
   "nbconvert_exporter": "python",
   "pygments_lexer": "ipython3",
   "version": "3.6.7"
  }
 },
 "nbformat": 4,
 "nbformat_minor": 2
}
