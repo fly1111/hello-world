{
 "cells": [
  {
   "cell_type": "code",
   "execution_count": 2,
   "metadata": {},
   "outputs": [
    {
     "name": "stdout",
     "output_type": "stream",
     "text": [
      "['batches.meta', 'test_batch', 'data_batch_5', 'data_batch_2', 'data_batch_1', 'readme.html', 'data_batch_4', 'data_batch_3']\n"
     ]
    }
   ],
   "source": [
    "#coding:utf-8\n",
    "\n",
    "import pickle\n",
    "import numpy as np\n",
    "import os\n",
    "\n",
    "CIFAR_DIR = \"./cifar-10-batches-py\"\n",
    "print (os.listdir(CIFAR_DIR))"
   ]
  },
  {
   "cell_type": "code",
   "execution_count": 4,
   "metadata": {
    "scrolled": true
   },
   "outputs": [
    {
     "name": "stdout",
     "output_type": "stream",
     "text": [
      "<class 'dict'>\n",
      "dict_keys([b'batch_label', b'labels', b'data', b'filenames'])\n",
      "<class 'numpy.ndarray'>\n",
      "<class 'list'>\n",
      "<class 'bytes'>\n",
      "<class 'list'>\n",
      "(10000, 3072)\n",
      "[[ 59  43  50 ... 140  84  72]\n",
      " [154 126 105 ... 139 142 144]]\n",
      "[b'leptodactylus_pentadactylus_s_000004.png', b'camion_s_000148.png', b'tipper_truck_s_001250.png']\n"
     ]
    }
   ],
   "source": [
    "with open(os.path.join(CIFAR_DIR,\"data_batch_1\"), 'rb') as f:\n",
    "    data = pickle.load(f,encoding='bytes')\n",
    "    print (type(data))\n",
    "    print (data.keys())\n",
    "    print (type(data[b'data']))\n",
    "    print (type(data[b'labels']))\n",
    "    print (type(data[b'batch_label']))\n",
    "    print (type(data[b'filenames']))\n",
    "    print (data[b'data'].shape)\n",
    "    print (data[b'data'][0:2])\n",
    "    print (data[b'filenames'][0:3])\n",
    "    "
   ]
  },
  {
   "cell_type": "code",
   "execution_count": 13,
   "metadata": {},
   "outputs": [
    {
     "data": {
      "text/plain": [
       "<matplotlib.image.AxesImage at 0x7f3bcd81b748>"
      ]
     },
     "execution_count": 13,
     "metadata": {},
     "output_type": "execute_result"
    },
    {
     "data": {
      "image/png": "[encoded data removed]",
      "text/plain": [
       "<Figure size 432x288 with 1 Axes>"
      ]
     },
     "metadata": {},
     "output_type": "display_data"
    }
   ],
   "source": [
    "image_arr = data[b'data'][101]\n",
    "image_arr = image_arr.reshape((3,32,32)) #32 32 3\n",
    "image_arr = image_arr.transpose((1,2,0))\n",
    "\n",
    "import matplotlib.pyplot as plt\n",
    "%matplotlib inline\n",
    "\n",
    "plt.imshow(image_arr)"
   ]
  },
  {
   "cell_type": "code",
   "execution_count": null,
   "metadata": {},
   "outputs": [],
   "source": []
  },
  {
   "cell_type": "code",
   "execution_count": null,
   "metadata": {},
   "outputs": [],
   "source": []
  }
 ],
 "metadata": {
  "kernelspec": {
   "display_name": "Python 3",
   "language": "python",
   "name": "python3"
  },
  "language_info": {
   "codemirror_mode": {
    "name": "ipython",
    "version": 3
   },
   "file_extension": ".py",
   "mimetype": "text/x-python",
   "name": "python",
   "nbconvert_exporter": "python",
   "pygments_lexer": "ipython3",
   "version": "3.6.7"
  }
 },
 "nbformat": 4,
 "nbformat_minor": 2
}
